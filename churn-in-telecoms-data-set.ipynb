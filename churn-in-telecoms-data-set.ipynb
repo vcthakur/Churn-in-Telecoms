{
 "cells": [
  {
   "cell_type": "code",
   "execution_count": 9,
   "metadata": {},
   "outputs": [],
   "source": [
    "#Import libraries\n",
    "import pandas as pd\n",
    "import numpy as np\n",
    "import matplotlib.pyplot as plt\n",
    "import seaborn as sns\n",
    "pd.set_option('display.max_column', None)\n",
    "%matplotlib inline\n",
    "plt.rcParams[\"figure.figsize\"] = [16,9]"
   ]
  },
  {
   "cell_type": "code",
   "execution_count": 2,
   "metadata": {},
   "outputs": [],
   "source": [
    "df = pd.read_csv(r'D:\\Learn\\Project\\churn-in-telecoms-dataset\\Telecom_dataset.csv')"
   ]
  },
  {
   "cell_type": "code",
   "execution_count": 3,
   "metadata": {},
   "outputs": [],
   "source": [
    "def initial_analysis(df):\n",
    "    print('Data_Shape:')\n",
    "    print(df.shape)\n",
    "    print('Data_Types:')\n",
    "    print(df.dtypes)\n",
    "    print('data_ifno:')\n",
    "    print(df.info())\n",
    "    print('Data_Sample:')\n",
    "    print(df.head())\n",
    "    print('Columns:')\n",
    "    print(df.columns)\n",
    "    print('Basic_Stat:')\n",
    "    print(df.describe(include = 'all'))\n",
    "    print('Null_Value:')\n",
    "    print(df.isnull().sum())"
   ]
  },
  {
   "cell_type": "code",
   "execution_count": 4,
   "metadata": {},
   "outputs": [
    {
     "name": "stdout",
     "output_type": "stream",
     "text": [
      "Data_Shape:\n",
      "(3333, 21)\n",
      "Data_Types:\n",
      "state                      object\n",
      "account length              int64\n",
      "area code                   int64\n",
      "phone number               object\n",
      "international plan         object\n",
      "voice mail plan            object\n",
      "number vmail messages       int64\n",
      "total day minutes         float64\n",
      "total day calls             int64\n",
      "total day charge          float64\n",
      "total eve minutes         float64\n",
      "total eve calls             int64\n",
      "total eve charge          float64\n",
      "total night minutes       float64\n",
      "total night calls           int64\n",
      "total night charge        float64\n",
      "total intl minutes        float64\n",
      "total intl calls            int64\n",
      "total intl charge         float64\n",
      "customer service calls      int64\n",
      "churn                        bool\n",
      "dtype: object\n",
      "data_ifno:\n",
      "<class 'pandas.core.frame.DataFrame'>\n",
      "RangeIndex: 3333 entries, 0 to 3332\n",
      "Data columns (total 21 columns):\n",
      " #   Column                  Non-Null Count  Dtype  \n",
      "---  ------                  --------------  -----  \n",
      " 0   state                   3333 non-null   object \n",
      " 1   account length          3333 non-null   int64  \n",
      " 2   area code               3333 non-null   int64  \n",
      " 3   phone number            3333 non-null   object \n",
      " 4   international plan      3333 non-null   object \n",
      " 5   voice mail plan         3333 non-null   object \n",
      " 6   number vmail messages   3333 non-null   int64  \n",
      " 7   total day minutes       3333 non-null   float64\n",
      " 8   total day calls         3333 non-null   int64  \n",
      " 9   total day charge        3333 non-null   float64\n",
      " 10  total eve minutes       3333 non-null   float64\n",
      " 11  total eve calls         3333 non-null   int64  \n",
      " 12  total eve charge        3333 non-null   float64\n",
      " 13  total night minutes     3333 non-null   float64\n",
      " 14  total night calls       3333 non-null   int64  \n",
      " 15  total night charge      3333 non-null   float64\n",
      " 16  total intl minutes      3333 non-null   float64\n",
      " 17  total intl calls        3333 non-null   int64  \n",
      " 18  total intl charge       3333 non-null   float64\n",
      " 19  customer service calls  3333 non-null   int64  \n",
      " 20  churn                   3333 non-null   bool   \n",
      "dtypes: bool(1), float64(8), int64(8), object(4)\n",
      "memory usage: 524.2+ KB\n",
      "None\n",
      "Data_Sample:\n",
      "  state  account length  area code phone number international plan  \\\n",
      "0    KS             128        415     382-4657                 no   \n",
      "1    OH             107        415     371-7191                 no   \n",
      "2    NJ             137        415     358-1921                 no   \n",
      "3    OH              84        408     375-9999                yes   \n",
      "4    OK              75        415     330-6626                yes   \n",
      "\n",
      "  voice mail plan  number vmail messages  total day minutes  total day calls  \\\n",
      "0             yes                     25              265.1              110   \n",
      "1             yes                     26              161.6              123   \n",
      "2              no                      0              243.4              114   \n",
      "3              no                      0              299.4               71   \n",
      "4              no                      0              166.7              113   \n",
      "\n",
      "   total day charge  total eve minutes  total eve calls  total eve charge  \\\n",
      "0             45.07              197.4               99             16.78   \n",
      "1             27.47              195.5              103             16.62   \n",
      "2             41.38              121.2              110             10.30   \n",
      "3             50.90               61.9               88              5.26   \n",
      "4             28.34              148.3              122             12.61   \n",
      "\n",
      "   total night minutes  total night calls  total night charge  \\\n",
      "0                244.7                 91               11.01   \n",
      "1                254.4                103               11.45   \n",
      "2                162.6                104                7.32   \n",
      "3                196.9                 89                8.86   \n",
      "4                186.9                121                8.41   \n",
      "\n",
      "   total intl minutes  total intl calls  total intl charge  \\\n",
      "0                10.0                 3               2.70   \n",
      "1                13.7                 3               3.70   \n",
      "2                12.2                 5               3.29   \n",
      "3                 6.6                 7               1.78   \n",
      "4                10.1                 3               2.73   \n",
      "\n",
      "   customer service calls  churn  \n",
      "0                       1  False  \n",
      "1                       1  False  \n",
      "2                       0  False  \n",
      "3                       2  False  \n",
      "4                       3  False  \n",
      "Columns:\n",
      "Index(['state', 'account length', 'area code', 'phone number',\n",
      "       'international plan', 'voice mail plan', 'number vmail messages',\n",
      "       'total day minutes', 'total day calls', 'total day charge',\n",
      "       'total eve minutes', 'total eve calls', 'total eve charge',\n",
      "       'total night minutes', 'total night calls', 'total night charge',\n",
      "       'total intl minutes', 'total intl calls', 'total intl charge',\n",
      "       'customer service calls', 'churn'],\n",
      "      dtype='object')\n",
      "Basic_Stat:\n",
      "       state  account length    area code phone number international plan  \\\n",
      "count   3333     3333.000000  3333.000000         3333               3333   \n",
      "unique    51             NaN          NaN         3333                  2   \n",
      "top       WV             NaN          NaN     330-3008                 no   \n",
      "freq     106             NaN          NaN            1               3010   \n",
      "mean     NaN      101.064806   437.182418          NaN                NaN   \n",
      "std      NaN       39.822106    42.371290          NaN                NaN   \n",
      "min      NaN        1.000000   408.000000          NaN                NaN   \n",
      "25%      NaN       74.000000   408.000000          NaN                NaN   \n",
      "50%      NaN      101.000000   415.000000          NaN                NaN   \n",
      "75%      NaN      127.000000   510.000000          NaN                NaN   \n",
      "max      NaN      243.000000   510.000000          NaN                NaN   \n",
      "\n",
      "       voice mail plan  number vmail messages  total day minutes  \\\n",
      "count             3333            3333.000000        3333.000000   \n",
      "unique               2                    NaN                NaN   \n",
      "top                 no                    NaN                NaN   \n",
      "freq              2411                    NaN                NaN   \n",
      "mean               NaN               8.099010         179.775098   \n",
      "std                NaN              13.688365          54.467389   \n",
      "min                NaN               0.000000           0.000000   \n",
      "25%                NaN               0.000000         143.700000   \n",
      "50%                NaN               0.000000         179.400000   \n",
      "75%                NaN              20.000000         216.400000   \n",
      "max                NaN              51.000000         350.800000   \n",
      "\n",
      "        total day calls  total day charge  total eve minutes  total eve calls  \\\n",
      "count       3333.000000       3333.000000        3333.000000      3333.000000   \n",
      "unique              NaN               NaN                NaN              NaN   \n",
      "top                 NaN               NaN                NaN              NaN   \n",
      "freq                NaN               NaN                NaN              NaN   \n",
      "mean         100.435644         30.562307         200.980348       100.114311   \n",
      "std           20.069084          9.259435          50.713844        19.922625   \n",
      "min            0.000000          0.000000           0.000000         0.000000   \n",
      "25%           87.000000         24.430000         166.600000        87.000000   \n",
      "50%          101.000000         30.500000         201.400000       100.000000   \n",
      "75%          114.000000         36.790000         235.300000       114.000000   \n",
      "max          165.000000         59.640000         363.700000       170.000000   \n",
      "\n",
      "        total eve charge  total night minutes  total night calls  \\\n",
      "count        3333.000000          3333.000000        3333.000000   \n",
      "unique               NaN                  NaN                NaN   \n",
      "top                  NaN                  NaN                NaN   \n",
      "freq                 NaN                  NaN                NaN   \n",
      "mean           17.083540           200.872037         100.107711   \n",
      "std             4.310668            50.573847          19.568609   \n",
      "min             0.000000            23.200000          33.000000   \n",
      "25%            14.160000           167.000000          87.000000   \n",
      "50%            17.120000           201.200000         100.000000   \n",
      "75%            20.000000           235.300000         113.000000   \n",
      "max            30.910000           395.000000         175.000000   \n",
      "\n",
      "        total night charge  total intl minutes  total intl calls  \\\n",
      "count          3333.000000         3333.000000       3333.000000   \n",
      "unique                 NaN                 NaN               NaN   \n",
      "top                    NaN                 NaN               NaN   \n",
      "freq                   NaN                 NaN               NaN   \n",
      "mean              9.039325           10.237294          4.479448   \n",
      "std               2.275873            2.791840          2.461214   \n",
      "min               1.040000            0.000000          0.000000   \n",
      "25%               7.520000            8.500000          3.000000   \n",
      "50%               9.050000           10.300000          4.000000   \n",
      "75%              10.590000           12.100000          6.000000   \n",
      "max              17.770000           20.000000         20.000000   \n",
      "\n",
      "        total intl charge  customer service calls  churn  \n",
      "count         3333.000000             3333.000000   3333  \n",
      "unique                NaN                     NaN      2  \n",
      "top                   NaN                     NaN  False  \n",
      "freq                  NaN                     NaN   2850  \n",
      "mean             2.764581                1.562856    NaN  \n",
      "std              0.753773                1.315491    NaN  \n",
      "min              0.000000                0.000000    NaN  \n",
      "25%              2.300000                1.000000    NaN  \n",
      "50%              2.780000                1.000000    NaN  \n",
      "75%              3.270000                2.000000    NaN  \n",
      "max              5.400000                9.000000    NaN  \n",
      "Null_Value:\n",
      "state                     0\n",
      "account length            0\n",
      "area code                 0\n",
      "phone number              0\n",
      "international plan        0\n",
      "voice mail plan           0\n",
      "number vmail messages     0\n",
      "total day minutes         0\n",
      "total day calls           0\n",
      "total day charge          0\n",
      "total eve minutes         0\n",
      "total eve calls           0\n",
      "total eve charge          0\n",
      "total night minutes       0\n",
      "total night calls         0\n",
      "total night charge        0\n",
      "total intl minutes        0\n",
      "total intl calls          0\n",
      "total intl charge         0\n",
      "customer service calls    0\n",
      "churn                     0\n",
      "dtype: int64\n"
     ]
    }
   ],
   "source": [
    "initial_analysis(df)"
   ]
  },
  {
   "cell_type": "code",
   "execution_count": 5,
   "metadata": {},
   "outputs": [],
   "source": [
    "#from inital analysis and exp we found that some  of feature will not help us to bulid model so we will remove them\n",
    "df1 = df.drop(['phone number', 'area code', 'state'], axis=1)"
   ]
  },
  {
   "cell_type": "code",
   "execution_count": 6,
   "metadata": {},
   "outputs": [
    {
     "name": "stdout",
     "output_type": "stream",
     "text": [
      "Data_Shape:\n",
      "(3333, 18)\n",
      "Data_Types:\n",
      "account length              int64\n",
      "international plan         object\n",
      "voice mail plan            object\n",
      "number vmail messages       int64\n",
      "total day minutes         float64\n",
      "total day calls             int64\n",
      "total day charge          float64\n",
      "total eve minutes         float64\n",
      "total eve calls             int64\n",
      "total eve charge          float64\n",
      "total night minutes       float64\n",
      "total night calls           int64\n",
      "total night charge        float64\n",
      "total intl minutes        float64\n",
      "total intl calls            int64\n",
      "total intl charge         float64\n",
      "customer service calls      int64\n",
      "churn                        bool\n",
      "dtype: object\n",
      "data_ifno:\n",
      "<class 'pandas.core.frame.DataFrame'>\n",
      "RangeIndex: 3333 entries, 0 to 3332\n",
      "Data columns (total 18 columns):\n",
      " #   Column                  Non-Null Count  Dtype  \n",
      "---  ------                  --------------  -----  \n",
      " 0   account length          3333 non-null   int64  \n",
      " 1   international plan      3333 non-null   object \n",
      " 2   voice mail plan         3333 non-null   object \n",
      " 3   number vmail messages   3333 non-null   int64  \n",
      " 4   total day minutes       3333 non-null   float64\n",
      " 5   total day calls         3333 non-null   int64  \n",
      " 6   total day charge        3333 non-null   float64\n",
      " 7   total eve minutes       3333 non-null   float64\n",
      " 8   total eve calls         3333 non-null   int64  \n",
      " 9   total eve charge        3333 non-null   float64\n",
      " 10  total night minutes     3333 non-null   float64\n",
      " 11  total night calls       3333 non-null   int64  \n",
      " 12  total night charge      3333 non-null   float64\n",
      " 13  total intl minutes      3333 non-null   float64\n",
      " 14  total intl calls        3333 non-null   int64  \n",
      " 15  total intl charge       3333 non-null   float64\n",
      " 16  customer service calls  3333 non-null   int64  \n",
      " 17  churn                   3333 non-null   bool   \n",
      "dtypes: bool(1), float64(8), int64(7), object(2)\n",
      "memory usage: 446.0+ KB\n",
      "None\n",
      "Data_Sample:\n",
      "   account length international plan voice mail plan  number vmail messages  \\\n",
      "0             128                 no             yes                     25   \n",
      "1             107                 no             yes                     26   \n",
      "2             137                 no              no                      0   \n",
      "3              84                yes              no                      0   \n",
      "4              75                yes              no                      0   \n",
      "\n",
      "   total day minutes  total day calls  total day charge  total eve minutes  \\\n",
      "0              265.1              110             45.07              197.4   \n",
      "1              161.6              123             27.47              195.5   \n",
      "2              243.4              114             41.38              121.2   \n",
      "3              299.4               71             50.90               61.9   \n",
      "4              166.7              113             28.34              148.3   \n",
      "\n",
      "   total eve calls  total eve charge  total night minutes  total night calls  \\\n",
      "0               99             16.78                244.7                 91   \n",
      "1              103             16.62                254.4                103   \n",
      "2              110             10.30                162.6                104   \n",
      "3               88              5.26                196.9                 89   \n",
      "4              122             12.61                186.9                121   \n",
      "\n",
      "   total night charge  total intl minutes  total intl calls  \\\n",
      "0               11.01                10.0                 3   \n",
      "1               11.45                13.7                 3   \n",
      "2                7.32                12.2                 5   \n",
      "3                8.86                 6.6                 7   \n",
      "4                8.41                10.1                 3   \n",
      "\n",
      "   total intl charge  customer service calls  churn  \n",
      "0               2.70                       1  False  \n",
      "1               3.70                       1  False  \n",
      "2               3.29                       0  False  \n",
      "3               1.78                       2  False  \n",
      "4               2.73                       3  False  \n",
      "Columns:\n",
      "Index(['account length', 'international plan', 'voice mail plan',\n",
      "       'number vmail messages', 'total day minutes', 'total day calls',\n",
      "       'total day charge', 'total eve minutes', 'total eve calls',\n",
      "       'total eve charge', 'total night minutes', 'total night calls',\n",
      "       'total night charge', 'total intl minutes', 'total intl calls',\n",
      "       'total intl charge', 'customer service calls', 'churn'],\n",
      "      dtype='object')\n",
      "Basic_Stat:\n",
      "        account length international plan voice mail plan  \\\n",
      "count      3333.000000               3333            3333   \n",
      "unique             NaN                  2               2   \n",
      "top                NaN                 no              no   \n",
      "freq               NaN               3010            2411   \n",
      "mean        101.064806                NaN             NaN   \n",
      "std          39.822106                NaN             NaN   \n",
      "min           1.000000                NaN             NaN   \n",
      "25%          74.000000                NaN             NaN   \n",
      "50%         101.000000                NaN             NaN   \n",
      "75%         127.000000                NaN             NaN   \n",
      "max         243.000000                NaN             NaN   \n",
      "\n",
      "        number vmail messages  total day minutes  total day calls  \\\n",
      "count             3333.000000        3333.000000      3333.000000   \n",
      "unique                    NaN                NaN              NaN   \n",
      "top                       NaN                NaN              NaN   \n",
      "freq                      NaN                NaN              NaN   \n",
      "mean                 8.099010         179.775098       100.435644   \n",
      "std                 13.688365          54.467389        20.069084   \n",
      "min                  0.000000           0.000000         0.000000   \n",
      "25%                  0.000000         143.700000        87.000000   \n",
      "50%                  0.000000         179.400000       101.000000   \n",
      "75%                 20.000000         216.400000       114.000000   \n",
      "max                 51.000000         350.800000       165.000000   \n",
      "\n",
      "        total day charge  total eve minutes  total eve calls  \\\n",
      "count        3333.000000        3333.000000      3333.000000   \n",
      "unique               NaN                NaN              NaN   \n",
      "top                  NaN                NaN              NaN   \n",
      "freq                 NaN                NaN              NaN   \n",
      "mean           30.562307         200.980348       100.114311   \n",
      "std             9.259435          50.713844        19.922625   \n",
      "min             0.000000           0.000000         0.000000   \n",
      "25%            24.430000         166.600000        87.000000   \n",
      "50%            30.500000         201.400000       100.000000   \n",
      "75%            36.790000         235.300000       114.000000   \n",
      "max            59.640000         363.700000       170.000000   \n",
      "\n",
      "        total eve charge  total night minutes  total night calls  \\\n",
      "count        3333.000000          3333.000000        3333.000000   \n",
      "unique               NaN                  NaN                NaN   \n",
      "top                  NaN                  NaN                NaN   \n",
      "freq                 NaN                  NaN                NaN   \n",
      "mean           17.083540           200.872037         100.107711   \n",
      "std             4.310668            50.573847          19.568609   \n",
      "min             0.000000            23.200000          33.000000   \n",
      "25%            14.160000           167.000000          87.000000   \n",
      "50%            17.120000           201.200000         100.000000   \n",
      "75%            20.000000           235.300000         113.000000   \n",
      "max            30.910000           395.000000         175.000000   \n",
      "\n",
      "        total night charge  total intl minutes  total intl calls  \\\n",
      "count          3333.000000         3333.000000       3333.000000   \n",
      "unique                 NaN                 NaN               NaN   \n",
      "top                    NaN                 NaN               NaN   \n",
      "freq                   NaN                 NaN               NaN   \n",
      "mean              9.039325           10.237294          4.479448   \n",
      "std               2.275873            2.791840          2.461214   \n",
      "min               1.040000            0.000000          0.000000   \n",
      "25%               7.520000            8.500000          3.000000   \n",
      "50%               9.050000           10.300000          4.000000   \n",
      "75%              10.590000           12.100000          6.000000   \n",
      "max              17.770000           20.000000         20.000000   \n",
      "\n",
      "        total intl charge  customer service calls  churn  \n",
      "count         3333.000000             3333.000000   3333  \n",
      "unique                NaN                     NaN      2  \n",
      "top                   NaN                     NaN  False  \n",
      "freq                  NaN                     NaN   2850  \n",
      "mean             2.764581                1.562856    NaN  \n",
      "std              0.753773                1.315491    NaN  \n",
      "min              0.000000                0.000000    NaN  \n",
      "25%              2.300000                1.000000    NaN  \n",
      "50%              2.780000                1.000000    NaN  \n",
      "75%              3.270000                2.000000    NaN  \n",
      "max              5.400000                9.000000    NaN  \n",
      "Null_Value:\n",
      "account length            0\n",
      "international plan        0\n",
      "voice mail plan           0\n",
      "number vmail messages     0\n",
      "total day minutes         0\n",
      "total day calls           0\n",
      "total day charge          0\n",
      "total eve minutes         0\n",
      "total eve calls           0\n",
      "total eve charge          0\n",
      "total night minutes       0\n",
      "total night calls         0\n",
      "total night charge        0\n",
      "total intl minutes        0\n",
      "total intl calls          0\n",
      "total intl charge         0\n",
      "customer service calls    0\n",
      "churn                     0\n",
      "dtype: int64\n"
     ]
    }
   ],
   "source": [
    "initial_analysis(df1)"
   ]
  },
  {
   "cell_type": "code",
   "execution_count": 13,
   "metadata": {},
   "outputs": [
    {
     "data": {
      "text/plain": [
       "array([[<matplotlib.axes._subplots.AxesSubplot object at 0x000002B98B04BB48>,\n",
       "        <matplotlib.axes._subplots.AxesSubplot object at 0x000002B98C566E08>,\n",
       "        <matplotlib.axes._subplots.AxesSubplot object at 0x000002B98C27A588>],\n",
       "       [<matplotlib.axes._subplots.AxesSubplot object at 0x000002B98C2ADF88>,\n",
       "        <matplotlib.axes._subplots.AxesSubplot object at 0x000002B98C2E8988>,\n",
       "        <matplotlib.axes._subplots.AxesSubplot object at 0x000002B98C322388>],\n",
       "       [<matplotlib.axes._subplots.AxesSubplot object at 0x000002B98C35C188>,\n",
       "        <matplotlib.axes._subplots.AxesSubplot object at 0x000002B98C392308>,\n",
       "        <matplotlib.axes._subplots.AxesSubplot object at 0x000002B98C399EC8>]],\n",
       "      dtype=object)"
      ]
     },
     "execution_count": 13,
     "metadata": {},
     "output_type": "execute_result"
    },
    {
     "data": {
      "image/png": "[encoded data removed]",
      "text/plain": [
       "<Figure size 720x720 with 9 Axes>"
      ]
     },
     "metadata": {
      "needs_background": "light"
     },
     "output_type": "display_data"
    }
   ],
   "source": [
    "#lets inspect our feature\n",
    "df[df.dtypes[df.dtypes == 'float64'].index.values].hist(figsize = (10,10))"
   ]
  },
  {
   "cell_type": "code",
   "execution_count": 12,
   "metadata": {},
   "outputs": [
    {
     "data": {
      "text/plain": [
       "array([[<matplotlib.axes._subplots.AxesSubplot object at 0x000002B98B83C288>,\n",
       "        <matplotlib.axes._subplots.AxesSubplot object at 0x000002B98C0D2BC8>,\n",
       "        <matplotlib.axes._subplots.AxesSubplot object at 0x000002B98C12C388>],\n",
       "       [<matplotlib.axes._subplots.AxesSubplot object at 0x000002B98C186488>,\n",
       "        <matplotlib.axes._subplots.AxesSubplot object at 0x000002B98C1E9C08>,\n",
       "        <matplotlib.axes._subplots.AxesSubplot object at 0x000002B98B8B9408>],\n",
       "       [<matplotlib.axes._subplots.AxesSubplot object at 0x000002B98BB26DC8>,\n",
       "        <matplotlib.axes._subplots.AxesSubplot object at 0x000002B98BBC5E08>,\n",
       "        <matplotlib.axes._subplots.AxesSubplot object at 0x000002B98BBDBA08>]],\n",
       "      dtype=object)"
      ]
     },
     "execution_count": 12,
     "metadata": {},
     "output_type": "execute_result"
    },
    {
     "data": {
      "image/png": "[encoded data removed]",
      "text/plain": [
       "<Figure size 720x720 with 9 Axes>"
      ]
     },
     "metadata": {
      "needs_background": "light"
     },
     "output_type": "display_data"
    }
   ],
   "source": [
    "df[df.dtypes[df.dtypes == 'int64'].index.values].hist(figsize = (10,10))"
   ]
  },
  {
   "cell_type": "code",
   "execution_count": 16,
   "metadata": {},
   "outputs": [
    {
     "data": {
      "text/plain": [
       "international plan    object\n",
       "voice mail plan       object\n",
       "dtype: object"
      ]
     },
     "execution_count": 16,
     "metadata": {},
     "output_type": "execute_result"
    }
   ],
   "source": [
    "df1.dtypes[df1.dtypes == \"O\"]"
   ]
  },
  {
   "cell_type": "code",
   "execution_count": 19,
   "metadata": {},
   "outputs": [
    {
     "data": {
      "text/plain": [
       "array(['no', 'yes'], dtype=object)"
      ]
     },
     "execution_count": 19,
     "metadata": {},
     "output_type": "execute_result"
    }
   ],
   "source": [
    "df1['international plan'].unique()"
   ]
  },
  {
   "cell_type": "code",
   "execution_count": 20,
   "metadata": {},
   "outputs": [
    {
     "data": {
      "text/plain": [
       "array(['yes', 'no'], dtype=object)"
      ]
     },
     "execution_count": 20,
     "metadata": {},
     "output_type": "execute_result"
    }
   ],
   "source": [
    "df1['voice mail plan'].unique()"
   ]
  },
  {
   "cell_type": "code",
   "execution_count": 24,
   "metadata": {},
   "outputs": [],
   "source": [
    "# so we can easily convert them into numerical features\n",
    "from sklearn.preprocessing import LabelEncoder\n",
    "le = LabelEncoder()\n",
    "\n",
    "df2 = df1.copy()\n",
    "\n",
    "df2['international plan'] = le.fit_transform(df2['international plan'])\n",
    "df2['voice mail plan'] = le.fit_transform(df2['voice mail plan'])"
   ]
  },
  {
   "cell_type": "code",
   "execution_count": 25,
   "metadata": {},
   "outputs": [
    {
     "name": "stdout",
     "output_type": "stream",
     "text": [
      "Data_Shape:\n",
      "(3333, 18)\n",
      "Data_Types:\n",
      "account length              int64\n",
      "international plan          int32\n",
      "voice mail plan             int32\n",
      "number vmail messages       int64\n",
      "total day minutes         float64\n",
      "total day calls             int64\n",
      "total day charge          float64\n",
      "total eve minutes         float64\n",
      "total eve calls             int64\n",
      "total eve charge          float64\n",
      "total night minutes       float64\n",
      "total night calls           int64\n",
      "total night charge        float64\n",
      "total intl minutes        float64\n",
      "total intl calls            int64\n",
      "total intl charge         float64\n",
      "customer service calls      int64\n",
      "churn                        bool\n",
      "dtype: object\n",
      "data_ifno:\n",
      "<class 'pandas.core.frame.DataFrame'>\n",
      "RangeIndex: 3333 entries, 0 to 3332\n",
      "Data columns (total 18 columns):\n",
      " #   Column                  Non-Null Count  Dtype  \n",
      "---  ------                  --------------  -----  \n",
      " 0   account length          3333 non-null   int64  \n",
      " 1   international plan      3333 non-null   int32  \n",
      " 2   voice mail plan         3333 non-null   int32  \n",
      " 3   number vmail messages   3333 non-null   int64  \n",
      " 4   total day minutes       3333 non-null   float64\n",
      " 5   total day calls         3333 non-null   int64  \n",
      " 6   total day charge        3333 non-null   float64\n",
      " 7   total eve minutes       3333 non-null   float64\n",
      " 8   total eve calls         3333 non-null   int64  \n",
      " 9   total eve charge        3333 non-null   float64\n",
      " 10  total night minutes     3333 non-null   float64\n",
      " 11  total night calls       3333 non-null   int64  \n",
      " 12  total night charge      3333 non-null   float64\n",
      " 13  total intl minutes      3333 non-null   float64\n",
      " 14  total intl calls        3333 non-null   int64  \n",
      " 15  total intl charge       3333 non-null   float64\n",
      " 16  customer service calls  3333 non-null   int64  \n",
      " 17  churn                   3333 non-null   bool   \n",
      "dtypes: bool(1), float64(8), int32(2), int64(7)\n",
      "memory usage: 420.0 KB\n",
      "None\n",
      "Data_Sample:\n",
      "   account length  international plan  voice mail plan  number vmail messages  \\\n",
      "0             128                   0                1                     25   \n",
      "1             107                   0                1                     26   \n",
      "2             137                   0                0                      0   \n",
      "3              84                   1                0                      0   \n",
      "4              75                   1                0                      0   \n",
      "\n",
      "   total day minutes  total day calls  total day charge  total eve minutes  \\\n",
      "0              265.1              110             45.07              197.4   \n",
      "1              161.6              123             27.47              195.5   \n",
      "2              243.4              114             41.38              121.2   \n",
      "3              299.4               71             50.90               61.9   \n",
      "4              166.7              113             28.34              148.3   \n",
      "\n",
      "   total eve calls  total eve charge  total night minutes  total night calls  \\\n",
      "0               99             16.78                244.7                 91   \n",
      "1              103             16.62                254.4                103   \n",
      "2              110             10.30                162.6                104   \n",
      "3               88              5.26                196.9                 89   \n",
      "4              122             12.61                186.9                121   \n",
      "\n",
      "   total night charge  total intl minutes  total intl calls  \\\n",
      "0               11.01                10.0                 3   \n",
      "1               11.45                13.7                 3   \n",
      "2                7.32                12.2                 5   \n",
      "3                8.86                 6.6                 7   \n",
      "4                8.41                10.1                 3   \n",
      "\n",
      "   total intl charge  customer service calls  churn  \n",
      "0               2.70                       1  False  \n",
      "1               3.70                       1  False  \n",
      "2               3.29                       0  False  \n",
      "3               1.78                       2  False  \n",
      "4               2.73                       3  False  \n",
      "Columns:\n",
      "Index(['account length', 'international plan', 'voice mail plan',\n",
      "       'number vmail messages', 'total day minutes', 'total day calls',\n",
      "       'total day charge', 'total eve minutes', 'total eve calls',\n",
      "       'total eve charge', 'total night minutes', 'total night calls',\n",
      "       'total night charge', 'total intl minutes', 'total intl calls',\n",
      "       'total intl charge', 'customer service calls', 'churn'],\n",
      "      dtype='object')\n",
      "Basic_Stat:\n",
      "        account length  international plan  voice mail plan  \\\n",
      "count      3333.000000         3333.000000      3333.000000   \n",
      "unique             NaN                 NaN              NaN   \n",
      "top                NaN                 NaN              NaN   \n",
      "freq               NaN                 NaN              NaN   \n",
      "mean        101.064806            0.096910         0.276628   \n",
      "std          39.822106            0.295879         0.447398   \n",
      "min           1.000000            0.000000         0.000000   \n",
      "25%          74.000000            0.000000         0.000000   \n",
      "50%         101.000000            0.000000         0.000000   \n",
      "75%         127.000000            0.000000         1.000000   \n",
      "max         243.000000            1.000000         1.000000   \n",
      "\n",
      "        number vmail messages  total day minutes  total day calls  \\\n",
      "count             3333.000000        3333.000000      3333.000000   \n",
      "unique                    NaN                NaN              NaN   \n",
      "top                       NaN                NaN              NaN   \n",
      "freq                      NaN                NaN              NaN   \n",
      "mean                 8.099010         179.775098       100.435644   \n",
      "std                 13.688365          54.467389        20.069084   \n",
      "min                  0.000000           0.000000         0.000000   \n",
      "25%                  0.000000         143.700000        87.000000   \n",
      "50%                  0.000000         179.400000       101.000000   \n",
      "75%                 20.000000         216.400000       114.000000   \n",
      "max                 51.000000         350.800000       165.000000   \n",
      "\n",
      "        total day charge  total eve minutes  total eve calls  \\\n",
      "count        3333.000000        3333.000000      3333.000000   \n",
      "unique               NaN                NaN              NaN   \n",
      "top                  NaN                NaN              NaN   \n",
      "freq                 NaN                NaN              NaN   \n",
      "mean           30.562307         200.980348       100.114311   \n",
      "std             9.259435          50.713844        19.922625   \n",
      "min             0.000000           0.000000         0.000000   \n",
      "25%            24.430000         166.600000        87.000000   \n",
      "50%            30.500000         201.400000       100.000000   \n",
      "75%            36.790000         235.300000       114.000000   \n",
      "max            59.640000         363.700000       170.000000   \n",
      "\n",
      "        total eve charge  total night minutes  total night calls  \\\n",
      "count        3333.000000          3333.000000        3333.000000   \n",
      "unique               NaN                  NaN                NaN   \n",
      "top                  NaN                  NaN                NaN   \n",
      "freq                 NaN                  NaN                NaN   \n",
      "mean           17.083540           200.872037         100.107711   \n",
      "std             4.310668            50.573847          19.568609   \n",
      "min             0.000000            23.200000          33.000000   \n",
      "25%            14.160000           167.000000          87.000000   \n",
      "50%            17.120000           201.200000         100.000000   \n",
      "75%            20.000000           235.300000         113.000000   \n",
      "max            30.910000           395.000000         175.000000   \n",
      "\n",
      "        total night charge  total intl minutes  total intl calls  \\\n",
      "count          3333.000000         3333.000000       3333.000000   \n",
      "unique                 NaN                 NaN               NaN   \n",
      "top                    NaN                 NaN               NaN   \n",
      "freq                   NaN                 NaN               NaN   \n",
      "mean              9.039325           10.237294          4.479448   \n",
      "std               2.275873            2.791840          2.461214   \n",
      "min               1.040000            0.000000          0.000000   \n",
      "25%               7.520000            8.500000          3.000000   \n",
      "50%               9.050000           10.300000          4.000000   \n",
      "75%              10.590000           12.100000          6.000000   \n",
      "max              17.770000           20.000000         20.000000   \n",
      "\n",
      "        total intl charge  customer service calls  churn  \n",
      "count         3333.000000             3333.000000   3333  \n",
      "unique                NaN                     NaN      2  \n",
      "top                   NaN                     NaN  False  \n",
      "freq                  NaN                     NaN   2850  \n",
      "mean             2.764581                1.562856    NaN  \n",
      "std              0.753773                1.315491    NaN  \n",
      "min              0.000000                0.000000    NaN  \n",
      "25%              2.300000                1.000000    NaN  \n",
      "50%              2.780000                1.000000    NaN  \n",
      "75%              3.270000                2.000000    NaN  \n",
      "max              5.400000                9.000000    NaN  \n",
      "Null_Value:\n",
      "account length            0\n",
      "international plan        0\n",
      "voice mail plan           0\n",
      "number vmail messages     0\n",
      "total day minutes         0\n",
      "total day calls           0\n",
      "total day charge          0\n",
      "total eve minutes         0\n",
      "total eve calls           0\n",
      "total eve charge          0\n",
      "total night minutes       0\n",
      "total night calls         0\n",
      "total night charge        0\n",
      "total intl minutes        0\n",
      "total intl calls          0\n",
      "total intl charge         0\n",
      "customer service calls    0\n",
      "churn                     0\n",
      "dtype: int64\n"
     ]
    }
   ],
   "source": [
    "initial_analysis(df2)"
   ]
  },
  {
   "cell_type": "code",
   "execution_count": 58,
   "metadata": {},
   "outputs": [
    {
     "data": {
      "text/plain": [
       "<matplotlib.axes._subplots.AxesSubplot at 0x2b98f410b88>"
      ]
     },
     "execution_count": 58,
     "metadata": {},
     "output_type": "execute_result"
    },
    {
     "data": {
      "image/png": "[encoded data removed]",
      "text/plain": [
       "<Figure size 1152x648 with 2 Axes>"
      ]
     },
     "metadata": {
      "needs_background": "light"
     },
     "output_type": "display_data"
    }
   ],
   "source": [
    "# let us see how features are related to each other\n",
    "sns.heatmap(df2.corr())\n",
    "\n",
    "# more brighter the square box more related to each other"
   ]
  },
  {
   "cell_type": "code",
   "execution_count": 26,
   "metadata": {},
   "outputs": [
    {
     "data": {
      "text/plain": [
       "<matplotlib.axes._subplots.AxesSubplot at 0x2b98d301908>"
      ]
     },
     "execution_count": 26,
     "metadata": {},
     "output_type": "execute_result"
    },
    {
     "data": {
      "image/png": "[encoded data removed]",
      "text/plain": [
       "<Figure size 1152x648 with 1 Axes>"
      ]
     },
     "metadata": {
      "needs_background": "light"
     },
     "output_type": "display_data"
    }
   ],
   "source": [
    "sns.countplot(x = 'customer service calls', data = df2)"
   ]
  },
  {
   "cell_type": "code",
   "execution_count": 27,
   "metadata": {},
   "outputs": [
    {
     "data": {
      "text/plain": [
       "<matplotlib.axes._subplots.AxesSubplot at 0x2b98e650c88>"
      ]
     },
     "execution_count": 27,
     "metadata": {},
     "output_type": "execute_result"
    },
    {
     "data": {
      "image/png": "[encoded data removed]",
      "text/plain": [
       "<Figure size 1152x648 with 1 Axes>"
      ]
     },
     "metadata": {
      "needs_background": "light"
     },
     "output_type": "display_data"
    }
   ],
   "source": [
    "sns.countplot(x = 'customer service calls',hue = 'churn', data = df1)\n",
    "#from this we can understand that how customer service calls related to churn"
   ]
  },
  {
   "cell_type": "code",
   "execution_count": 28,
   "metadata": {},
   "outputs": [
    {
     "data": {
      "text/plain": [
       "<matplotlib.axes._subplots.AxesSubplot at 0x2b98e3bcc88>"
      ]
     },
     "execution_count": 28,
     "metadata": {},
     "output_type": "execute_result"
    },
    {
     "data": {
      "image/png": "[encoded data removed]",
      "text/plain": [
       "<Figure size 1152x648 with 1 Axes>"
      ]
     },
     "metadata": {
      "needs_background": "light"
     },
     "output_type": "display_data"
    }
   ],
   "source": [
    "sns.countplot(y = 'churn', hue = 'international plan', data = df1)"
   ]
  },
  {
   "cell_type": "code",
   "execution_count": 29,
   "metadata": {},
   "outputs": [
    {
     "data": {
      "text/plain": [
       "array([False,  True])"
      ]
     },
     "execution_count": 29,
     "metadata": {},
     "output_type": "execute_result"
    }
   ],
   "source": [
    "#let us inspect our target variable\n",
    "df2['churn'].unique()"
   ]
  },
  {
   "cell_type": "code",
   "execution_count": 30,
   "metadata": {},
   "outputs": [
    {
     "data": {
      "text/plain": [
       "False    2850\n",
       "True      483\n",
       "Name: churn, dtype: int64"
      ]
     },
     "execution_count": 30,
     "metadata": {},
     "output_type": "execute_result"
    }
   ],
   "source": [
    "df2['churn'].value_counts()"
   ]
  },
  {
   "cell_type": "code",
   "execution_count": 31,
   "metadata": {},
   "outputs": [
    {
     "data": {
      "text/html": [
       "<div>\n",
       "<style scoped>\n",
       "    .dataframe tbody tr th:only-of-type {\n",
       "        vertical-align: middle;\n",
       "    }\n",
       "\n",
       "    .dataframe tbody tr th {\n",
       "        vertical-align: top;\n",
       "    }\n",
       "\n",
       "    .dataframe thead th {\n",
       "        text-align: right;\n",
       "    }\n",
       "</style>\n",
       "<table border=\"1\" class=\"dataframe\">\n",
       "  <thead>\n",
       "    <tr style=\"text-align: right;\">\n",
       "      <th></th>\n",
       "      <th>account length</th>\n",
       "      <th>international plan</th>\n",
       "      <th>voice mail plan</th>\n",
       "      <th>number vmail messages</th>\n",
       "      <th>total day minutes</th>\n",
       "      <th>total day calls</th>\n",
       "      <th>total day charge</th>\n",
       "      <th>total eve minutes</th>\n",
       "      <th>total eve calls</th>\n",
       "      <th>total eve charge</th>\n",
       "      <th>total night minutes</th>\n",
       "      <th>total night calls</th>\n",
       "      <th>total night charge</th>\n",
       "      <th>total intl minutes</th>\n",
       "      <th>total intl calls</th>\n",
       "      <th>total intl charge</th>\n",
       "      <th>customer service calls</th>\n",
       "      <th>churn</th>\n",
       "    </tr>\n",
       "  </thead>\n",
       "  <tbody>\n",
       "    <tr>\n",
       "      <th>0</th>\n",
       "      <td>128</td>\n",
       "      <td>0</td>\n",
       "      <td>1</td>\n",
       "      <td>25</td>\n",
       "      <td>265.1</td>\n",
       "      <td>110</td>\n",
       "      <td>45.07</td>\n",
       "      <td>197.4</td>\n",
       "      <td>99</td>\n",
       "      <td>16.78</td>\n",
       "      <td>244.7</td>\n",
       "      <td>91</td>\n",
       "      <td>11.01</td>\n",
       "      <td>10.0</td>\n",
       "      <td>3</td>\n",
       "      <td>2.70</td>\n",
       "      <td>1</td>\n",
       "      <td>False</td>\n",
       "    </tr>\n",
       "    <tr>\n",
       "      <th>1</th>\n",
       "      <td>107</td>\n",
       "      <td>0</td>\n",
       "      <td>1</td>\n",
       "      <td>26</td>\n",
       "      <td>161.6</td>\n",
       "      <td>123</td>\n",
       "      <td>27.47</td>\n",
       "      <td>195.5</td>\n",
       "      <td>103</td>\n",
       "      <td>16.62</td>\n",
       "      <td>254.4</td>\n",
       "      <td>103</td>\n",
       "      <td>11.45</td>\n",
       "      <td>13.7</td>\n",
       "      <td>3</td>\n",
       "      <td>3.70</td>\n",
       "      <td>1</td>\n",
       "      <td>False</td>\n",
       "    </tr>\n",
       "    <tr>\n",
       "      <th>2</th>\n",
       "      <td>137</td>\n",
       "      <td>0</td>\n",
       "      <td>0</td>\n",
       "      <td>0</td>\n",
       "      <td>243.4</td>\n",
       "      <td>114</td>\n",
       "      <td>41.38</td>\n",
       "      <td>121.2</td>\n",
       "      <td>110</td>\n",
       "      <td>10.30</td>\n",
       "      <td>162.6</td>\n",
       "      <td>104</td>\n",
       "      <td>7.32</td>\n",
       "      <td>12.2</td>\n",
       "      <td>5</td>\n",
       "      <td>3.29</td>\n",
       "      <td>0</td>\n",
       "      <td>False</td>\n",
       "    </tr>\n",
       "    <tr>\n",
       "      <th>3</th>\n",
       "      <td>84</td>\n",
       "      <td>1</td>\n",
       "      <td>0</td>\n",
       "      <td>0</td>\n",
       "      <td>299.4</td>\n",
       "      <td>71</td>\n",
       "      <td>50.90</td>\n",
       "      <td>61.9</td>\n",
       "      <td>88</td>\n",
       "      <td>5.26</td>\n",
       "      <td>196.9</td>\n",
       "      <td>89</td>\n",
       "      <td>8.86</td>\n",
       "      <td>6.6</td>\n",
       "      <td>7</td>\n",
       "      <td>1.78</td>\n",
       "      <td>2</td>\n",
       "      <td>False</td>\n",
       "    </tr>\n",
       "    <tr>\n",
       "      <th>4</th>\n",
       "      <td>75</td>\n",
       "      <td>1</td>\n",
       "      <td>0</td>\n",
       "      <td>0</td>\n",
       "      <td>166.7</td>\n",
       "      <td>113</td>\n",
       "      <td>28.34</td>\n",
       "      <td>148.3</td>\n",
       "      <td>122</td>\n",
       "      <td>12.61</td>\n",
       "      <td>186.9</td>\n",
       "      <td>121</td>\n",
       "      <td>8.41</td>\n",
       "      <td>10.1</td>\n",
       "      <td>3</td>\n",
       "      <td>2.73</td>\n",
       "      <td>3</td>\n",
       "      <td>False</td>\n",
       "    </tr>\n",
       "  </tbody>\n",
       "</table>\n",
       "</div>"
      ],
      "text/plain": [
       "   account length  international plan  voice mail plan  number vmail messages  \\\n",
       "0             128                   0                1                     25   \n",
       "1             107                   0                1                     26   \n",
       "2             137                   0                0                      0   \n",
       "3              84                   1                0                      0   \n",
       "4              75                   1                0                      0   \n",
       "\n",
       "   total day minutes  total day calls  total day charge  total eve minutes  \\\n",
       "0              265.1              110             45.07              197.4   \n",
       "1              161.6              123             27.47              195.5   \n",
       "2              243.4              114             41.38              121.2   \n",
       "3              299.4               71             50.90               61.9   \n",
       "4              166.7              113             28.34              148.3   \n",
       "\n",
       "   total eve calls  total eve charge  total night minutes  total night calls  \\\n",
       "0               99             16.78                244.7                 91   \n",
       "1              103             16.62                254.4                103   \n",
       "2              110             10.30                162.6                104   \n",
       "3               88              5.26                196.9                 89   \n",
       "4              122             12.61                186.9                121   \n",
       "\n",
       "   total night charge  total intl minutes  total intl calls  \\\n",
       "0               11.01                10.0                 3   \n",
       "1               11.45                13.7                 3   \n",
       "2                7.32                12.2                 5   \n",
       "3                8.86                 6.6                 7   \n",
       "4                8.41                10.1                 3   \n",
       "\n",
       "   total intl charge  customer service calls  churn  \n",
       "0               2.70                       1  False  \n",
       "1               3.70                       1  False  \n",
       "2               3.29                       0  False  \n",
       "3               1.78                       2  False  \n",
       "4               2.73                       3  False  "
      ]
     },
     "execution_count": 31,
     "metadata": {},
     "output_type": "execute_result"
    }
   ],
   "source": [
    "df2.head()"
   ]
  },
  {
   "cell_type": "code",
   "execution_count": 32,
   "metadata": {},
   "outputs": [],
   "source": [
    "#our data is ready to build model\n",
    "\n",
    "X = df2.iloc[:, 0:-1]\n",
    "y = df2.iloc[:, -1]"
   ]
  },
  {
   "cell_type": "code",
   "execution_count": 33,
   "metadata": {},
   "outputs": [],
   "source": [
    "from sklearn.model_selection import train_test_split\n",
    "\n",
    "X_train, X_test, y_train, y_test = train_test_split(X, y, test_size = .25, random_state = 0)"
   ]
  },
  {
   "cell_type": "code",
   "execution_count": 34,
   "metadata": {},
   "outputs": [],
   "source": [
    "from sklearn.model_selection import StratifiedKFold\n",
    "from sklearn.model_selection import cross_val_score\n",
    "\n",
    "# for building model\n",
    "from sklearn.linear_model import LogisticRegression\n",
    "from sklearn.discriminant_analysis import LinearDiscriminantAnalysis\n",
    "from sklearn.tree import DecisionTreeClassifier\n",
    "from sklearn.neighbors import KNeighborsClassifier\n",
    "from sklearn.naive_bayes import GaussianNB\n",
    "from sklearn.svm import SVC\n",
    "from sklearn.ensemble import RandomForestClassifier\n",
    "from sklearn.neural_network import MLPClassifier\n",
    "from xgboost import XGBClassifier\n",
    "\n",
    "# for checking accuray\n",
    "from sklearn.metrics import classification_report\n",
    "from sklearn.metrics import confusion_matrix\n",
    "from sklearn.metrics import accuracy_score"
   ]
  },
  {
   "cell_type": "code",
   "execution_count": 35,
   "metadata": {},
   "outputs": [
    {
     "name": "stdout",
     "output_type": "stream",
     "text": [
      "LR: 0.852746 (0.009357)\n",
      "LDA: 0.851145 (0.011374)\n",
      "KNN: 0.877953 (0.006785)\n",
      "DTC: 0.913562 (0.009860)\n",
      "NB: 0.861945 (0.016734)\n",
      "SVM: 0.852741 (0.000913)\n",
      "RFC: 0.947175 (0.005641)\n",
      "MLP: 0.864345 (0.009258)\n",
      "XGB: 0.948378 (0.001532)\n"
     ]
    }
   ],
   "source": [
    "models = []\n",
    "models.append(('LR', LogisticRegression(solver='liblinear', multi_class='ovr')))\n",
    "models.append(('LDA', LinearDiscriminantAnalysis()))\n",
    "models.append(('KNN', KNeighborsClassifier()))\n",
    "models.append(('DTC', DecisionTreeClassifier()))\n",
    "models.append(('NB', GaussianNB()))\n",
    "models.append(('SVM', SVC(gamma='auto')))\n",
    "models.append(('RFC', RandomForestClassifier()))\n",
    "models.append(('MLP', MLPClassifier()))\n",
    "models.append(('XGB', XGBClassifier()))\n",
    "# evaluate each model in turn\n",
    "results = []\n",
    "names = []\n",
    "for name, model in models:\n",
    "    kfold = StratifiedKFold(n_splits=5, random_state=0, shuffle=True)\n",
    "    cv_results = cross_val_score(model, X_train, y_train, cv=kfold, scoring='accuracy', n_jobs = -1)\n",
    "    results.append(cv_results)\n",
    "    names.append(name)\n",
    "    print('%s: %f (%f)' % (name, cv_results.mean(), cv_results.std()))"
   ]
  },
  {
   "cell_type": "code",
   "execution_count": 49,
   "metadata": {},
   "outputs": [
    {
     "data": {
      "image/png": "[encoded data removed]",
      "text/plain": [
       "<Figure size 1152x648 with 1 Axes>"
      ]
     },
     "metadata": {
      "needs_background": "light"
     },
     "output_type": "display_data"
    }
   ],
   "source": [
    "plt.boxplot(results, labels=names)\n",
    "plt.title('Algorithm Comparison')\n",
    "plt.show()"
   ]
  },
  {
   "cell_type": "code",
   "execution_count": 36,
   "metadata": {},
   "outputs": [
    {
     "data": {
      "text/plain": [
       "XGBClassifier(base_score=0.5, booster='gbtree', colsample_bylevel=1,\n",
       "              colsample_bynode=1, colsample_bytree=1, gamma=0,\n",
       "              learning_rate=0.1, max_delta_step=0, max_depth=3,\n",
       "              min_child_weight=1, missing=None, n_estimators=100, n_jobs=1,\n",
       "              nthread=None, objective='binary:logistic', random_state=0,\n",
       "              reg_alpha=0, reg_lambda=1, scale_pos_weight=1, seed=None,\n",
       "              silent=None, subsample=1, verbosity=1)"
      ]
     },
     "execution_count": 36,
     "metadata": {},
     "output_type": "execute_result"
    }
   ],
   "source": [
    "# from above testing we see that almost all model come up with more than 85% score \n",
    "# so further more analysis we will opt any one or two model and check performance\n",
    "\n",
    "xgb = XGBClassifier()\n",
    "xgb.fit(X_train, y_train)"
   ]
  },
  {
   "cell_type": "code",
   "execution_count": 38,
   "metadata": {},
   "outputs": [],
   "source": [
    "prediction = xgb.predict(X_test)"
   ]
  },
  {
   "cell_type": "code",
   "execution_count": 39,
   "metadata": {},
   "outputs": [
    {
     "name": "stdout",
     "output_type": "stream",
     "text": [
      "0.9520383693045563\n",
      "[[705  14]\n",
      " [ 26  89]]\n",
      "              precision    recall  f1-score   support\n",
      "\n",
      "       False       0.96      0.98      0.97       719\n",
      "        True       0.86      0.77      0.82       115\n",
      "\n",
      "    accuracy                           0.95       834\n",
      "   macro avg       0.91      0.88      0.89       834\n",
      "weighted avg       0.95      0.95      0.95       834\n",
      "\n"
     ]
    }
   ],
   "source": [
    "print(accuracy_score(y_test, prediction))\n",
    "print(confusion_matrix(y_test, prediction))\n",
    "print(classification_report(y_test, prediction))"
   ]
  },
  {
   "cell_type": "code",
   "execution_count": 40,
   "metadata": {},
   "outputs": [
    {
     "data": {
      "text/plain": [
       "<matplotlib.axes._subplots.AxesSubplot at 0x2b98efdff08>"
      ]
     },
     "execution_count": 40,
     "metadata": {},
     "output_type": "execute_result"
    },
    {
     "data": {
      "image/png": "[encoded data removed]",
      "text/plain": [
       "<Figure size 1152x648 with 1 Axes>"
      ]
     },
     "metadata": {
      "needs_background": "light"
     },
     "output_type": "display_data"
    }
   ],
   "source": [
    "import xgboost\n",
    "xgboost.plot_importance(xgb, max_num_features=50, height=0.8)\n",
    "\n",
    "#from this we can see that which feature makes more effort to find result"
   ]
  },
  {
   "cell_type": "code",
   "execution_count": 41,
   "metadata": {},
   "outputs": [
    {
     "data": {
      "text/plain": [
       "RandomForestClassifier(bootstrap=True, ccp_alpha=0.0, class_weight=None,\n",
       "                       criterion='gini', max_depth=None, max_features='auto',\n",
       "                       max_leaf_nodes=None, max_samples=None,\n",
       "                       min_impurity_decrease=0.0, min_impurity_split=None,\n",
       "                       min_samples_leaf=1, min_samples_split=2,\n",
       "                       min_weight_fraction_leaf=0.0, n_estimators=100,\n",
       "                       n_jobs=None, oob_score=False, random_state=None,\n",
       "                       verbose=0, warm_start=False)"
      ]
     },
     "execution_count": 41,
     "metadata": {},
     "output_type": "execute_result"
    }
   ],
   "source": [
    "rfc = RandomForestClassifier()\n",
    "rfc.fit(X_train, y_train)"
   ]
  },
  {
   "cell_type": "code",
   "execution_count": 43,
   "metadata": {},
   "outputs": [],
   "source": [
    "prediction1 = rfc.predict(X_test)"
   ]
  },
  {
   "cell_type": "code",
   "execution_count": 44,
   "metadata": {},
   "outputs": [
    {
     "name": "stdout",
     "output_type": "stream",
     "text": [
      "0.9568345323741008\n",
      "[[707  12]\n",
      " [ 24  91]]\n",
      "              precision    recall  f1-score   support\n",
      "\n",
      "       False       0.97      0.98      0.98       719\n",
      "        True       0.88      0.79      0.83       115\n",
      "\n",
      "    accuracy                           0.96       834\n",
      "   macro avg       0.93      0.89      0.91       834\n",
      "weighted avg       0.96      0.96      0.96       834\n",
      "\n"
     ]
    }
   ],
   "source": [
    "print(accuracy_score(y_test, prediction1))\n",
    "print(confusion_matrix(y_test, prediction1))\n",
    "print(classification_report(y_test, prediction1))"
   ]
  },
  {
   "cell_type": "code",
   "execution_count": 45,
   "metadata": {},
   "outputs": [
    {
     "data": {
      "text/plain": [
       "account length            137.00\n",
       "international plan          0.00\n",
       "voice mail plan             0.00\n",
       "number vmail messages       0.00\n",
       "total day minutes         243.40\n",
       "total day calls           114.00\n",
       "total day charge           41.38\n",
       "total eve minutes         121.20\n",
       "total eve calls           110.00\n",
       "total eve charge           10.30\n",
       "total night minutes       162.60\n",
       "total night calls         104.00\n",
       "total night charge          7.32\n",
       "total intl minutes         12.20\n",
       "total intl calls            5.00\n",
       "total intl charge           3.29\n",
       "customer service calls      0.00\n",
       "Name: 2, dtype: float64"
      ]
     },
     "execution_count": 45,
     "metadata": {},
     "output_type": "execute_result"
    }
   ],
   "source": [
    "#let us do some predtion on trained model\n",
    "X.loc[2]"
   ]
  },
  {
   "cell_type": "code",
   "execution_count": 47,
   "metadata": {},
   "outputs": [
    {
     "name": "stdout",
     "output_type": "stream",
     "text": [
      "[False]\n"
     ]
    }
   ],
   "source": [
    "print(rfc.predict([X.loc[2]]))"
   ]
  },
  {
   "cell_type": "code",
   "execution_count": 54,
   "metadata": {},
   "outputs": [],
   "source": [
    "z = dict(X.loc[2])"
   ]
  },
  {
   "cell_type": "code",
   "execution_count": 56,
   "metadata": {},
   "outputs": [
    {
     "data": {
      "text/plain": [
       "dict_values([137.0, 0.0, 0.0, 0.0, 243.4, 114.0, 41.38, 121.2, 110.0, 10.3, 162.6, 104.0, 7.32, 12.2, 5.0, 3.29, 0.0])"
      ]
     },
     "execution_count": 56,
     "metadata": {},
     "output_type": "execute_result"
    }
   ],
   "source": [
    "z.values()"
   ]
  },
  {
   "cell_type": "code",
   "execution_count": 57,
   "metadata": {},
   "outputs": [
    {
     "name": "stdout",
     "output_type": "stream",
     "text": [
      "[False]\n"
     ]
    }
   ],
   "source": [
    "print(rfc.predict([[137.0, 0.0, 0.0, 0.0, 243.4, 114.0, 41.38, 121.2, 110.0, 10.3, 162.6, 104.0, 7.32, 12.2, 5.0, 3.29, 0.0]]))"
   ]
  },
  {
   "cell_type": "code",
   "execution_count": 59,
   "metadata": {},
   "outputs": [
    {
     "name": "stdout",
     "output_type": "stream",
     "text": [
      "[False]\n"
     ]
    }
   ],
   "source": [
    "print(rfc.predict([X.loc[202]]))"
   ]
  },
  {
   "cell_type": "code",
   "execution_count": 64,
   "metadata": {},
   "outputs": [
    {
     "name": "stdout",
     "output_type": "stream",
     "text": [
      "[False]\n"
     ]
    }
   ],
   "source": [
    "print(rfc.predict([X_train.iloc[202]]))"
   ]
  }
 ],
 "metadata": {
  "kernelspec": {
   "display_name": "Python 3",
   "language": "python",
   "name": "python3"
  },
  "language_info": {
   "codemirror_mode": {
    "name": "ipython",
    "version": 3
   },
   "file_extension": ".py",
   "mimetype": "text/x-python",
   "name": "python",
   "nbconvert_exporter": "python",
   "pygments_lexer": "ipython3",
   "version": "3.7.6"
  }
 },
 "nbformat": 4,
 "nbformat_minor": 4
}
